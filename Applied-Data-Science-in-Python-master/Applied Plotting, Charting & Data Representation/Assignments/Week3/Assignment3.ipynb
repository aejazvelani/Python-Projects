{
 "cells": [
  {
   "cell_type": "markdown",
   "metadata": {},
   "source": [
    "# Assignment 3 - Building a Custom Visualization\n",
    "\n",
    "---\n",
    "\n",
    "In this assignment you must choose one of the options presented below and submit a visual as well as your source code for peer grading. The details of how you solve the assignment are up to you, although your assignment must use matplotlib so that your peers can evaluate your work. The options differ in challenge level, but there are no grades associated with the challenge level you chose. However, your peers will be asked to ensure you at least met a minimum quality for a given technique in order to pass. Implement the technique fully (or exceed it!) and you should be able to earn full grades for the assignment.\n",
    "\n",
    "\n",
    "&nbsp;&nbsp;&nbsp;&nbsp;&nbsp;&nbsp;Ferreira, N., Fisher, D., & Konig, A. C. (2014, April). [Sample-oriented task-driven visualizations: allowing users to make better, more confident decisions.](https://www.microsoft.com/en-us/research/wp-content/uploads/2016/02/Ferreira_Fisher_Sample_Oriented_Tasks.pdf) \n",
    "&nbsp;&nbsp;&nbsp;&nbsp;&nbsp;&nbsp;In Proceedings of the SIGCHI Conference on Human Factors in Computing Systems (pp. 571-580). ACM. ([video](https://www.youtube.com/watch?v=BI7GAs-va-Q))\n",
    "\n",
    "\n",
    "In this [paper](https://www.microsoft.com/en-us/research/wp-content/uploads/2016/02/Ferreira_Fisher_Sample_Oriented_Tasks.pdf) the authors describe the challenges users face when trying to make judgements about probabilistic data generated through samples. As an example, they look at a bar chart of four years of data (replicated below in Figure 1). Each year has a y-axis value, which is derived from a sample of a larger dataset. For instance, the first value might be the number votes in a given district or riding for 1992, with the average being around 33,000. On top of this is plotted the 95% confidence interval for the mean (see the boxplot lectures for more information, and the yerr parameter of barcharts).\n",
    "\n",
    "<br>\n",
    "<img src=\"readonly/Assignment3Fig1.png\" alt=\"Figure 1\" style=\"width: 400px;\"/>\n",
    "<h4 style=\"text-align: center;\" markdown=\"1\">  &nbsp;&nbsp;&nbsp;&nbsp;&nbsp;&nbsp;&nbsp;&nbsp;Figure 1 from (Ferreira et al, 2014).</h4>\n",
    "\n",
    "<br>\n",
    "\n",
    "A challenge that users face is that, for a given y-axis value (e.g. 42,000), it is difficult to know which x-axis values are most likely to be representative, because the confidence levels overlap and their distributions are different (the lengths of the confidence interval bars are unequal). One of the solutions the authors propose for this problem (Figure 2c) is to allow users to indicate the y-axis value of interest (e.g. 42,000) and then draw a horizontal line and color bars based on this value. So bars might be colored red if they are definitely above this value (given the confidence interval), blue if they are definitely below this value, or white if they contain this value.\n",
    "\n",
    "\n",
    "<br>\n",
    "<img src=\"readonly/Assignment3Fig2c.png\" alt=\"Figure 1\" style=\"width: 400px;\"/>\n",
    "<h4 style=\"text-align: center;\" markdown=\"1\">  Figure 2c from (Ferreira et al. 2014). Note that the colorbar legend at the bottom as well as the arrows are not required in the assignment descriptions below.</h4>\n",
    "\n",
    "<br>\n",
    "<br>\n",
    "\n",
    "**Easiest option:** Implement the bar coloring as described above - a color scale with only three colors, (e.g. blue, white, and red). Assume the user provides the y axis value of interest as a parameter or variable.\n",
    "\n",
    "\n",
    "**Harder option:** Implement the bar coloring as described in the paper, where the color of the bar is actually based on the amount of data covered (e.g. a gradient ranging from dark blue for the distribution being certainly below this y-axis, to white if the value is certainly contained, to dark red if the value is certainly not contained as the distribution is above the axis).\n",
    "\n",
    "**Even Harder option:** Add interactivity to the above, which allows the user to click on the y axis to set the value of interest. The bar colors should change with respect to what value the user has selected.\n",
    "\n",
    "**Hardest option:** Allow the user to interactively set a range of y values they are interested in, and recolor based on this (e.g. a y-axis band, see the paper for more details).\n",
    "\n",
    "---\n",
    "\n",
    "*Note: The data given for this assignment is not the same as the data used in the article and as a result the visualizations may look a little different.*"
   ]
  },
  {
   "cell_type": "markdown",
   "metadata": {},
   "source": [
    "# Easiest option"
   ]
  },
  {
   "cell_type": "code",
   "execution_count": 2,
   "metadata": {},
   "outputs": [
    {
     "data": {
      "image/png": "[encoded data removed]",
      "text/plain": [
       "<matplotlib.figure.Figure at 0x7f17b7b6fe80>"
      ]
     },
     "metadata": {},
     "output_type": "display_data"
    },
    {
     "data": {
      "text/plain": [
       "<matplotlib.figure.Figure at 0x7f17e0813b38>"
      ]
     },
     "metadata": {},
     "output_type": "display_data"
    },
    {
     "data": {
      "text/plain": [
       "<matplotlib.text.Text at 0x7f176250ea20>"
      ]
     },
     "execution_count": 2,
     "metadata": {},
     "output_type": "execute_result"
    }
   ],
   "source": [
    "import pandas as pd\n",
    "import numpy as np\n",
    "import matplotlib.pyplot as plt\n",
    "\n",
    "np.random.seed(12345)\n",
    "\n",
    "df = pd.DataFrame([np.random.normal(32000,200000,3650), \n",
    "                   np.random.normal(43000,100000,3650), \n",
    "                   np.random.normal(43500,140000,3650), \n",
    "                   np.random.normal(48000,70000,3650)], \n",
    "                  index=[1992,1993,1994,1995])\n",
    "\n",
    "\n",
    "from scipy import stats\n",
    "year_avg = df.mean(axis = 1)\n",
    "year_std = df.std(axis = 1)\n",
    "yerr = year_std / np.sqrt(df.shape[1]) * stats.t.ppf(0.95, df.shape[1]-1)\n",
    "\n",
    "plt.figure()\n",
    "plt.show()\n",
    "\n",
    "bars = plt.bar(range(df.shape[0]), year_avg, yerr= yerr, alpha = 0.6, color = 'rgby')\n",
    "\n",
    "threshold=42000\n",
    "plt.axhline(y = threshold, color = 'grey', alpha = 1)\n",
    "\n",
    "plt.xticks(range(df.shape[0]), ['1992', '1993', '1994', '1995'], alpha = 0.8)\n",
    "plt.title('Ferreira et al, 2014')\n",
    "\n"
   ]
  },
  {
   "cell_type": "code",
   "execution_count": 5,
   "metadata": {},
   "outputs": [
    {
     "data": {
      "image/png": "[encoded data removed]",
      "text/plain": [
       "<Figure size 432x288 with 2 Axes>"
      ]
     },
     "metadata": {
      "needs_background": "light"
     },
     "output_type": "display_data"
    }
   ],
   "source": [
    "import scipy.stats as ss\n",
    "import pandas as pd \n",
    "import numpy as np\n",
    "import matplotlib.pyplot as plt\n",
    "import matplotlib.colors as col\n",
    "import matplotlib.cm as cm\n",
    "\n",
    "np.random.seed(12345)\n",
    "\n",
    "df = pd.DataFrame([np.random.normal(32000,200000,3650), \n",
    "                   np.random.normal(43000,100000,3650), \n",
    "                   np.random.normal(43500,140000,3650), \n",
    "                   np.random.normal(48000,70000,3650)], \n",
    "                  index=[1992,1993,1994,1995])\n",
    "\n",
    "means = df.mean(axis=1)\n",
    "std = df.std(axis=1)\n",
    "\n",
    "n = df.shape[1]\n",
    "\n",
    "\n",
    "yerr = std/np.sqrt(n) * ss.t.ppf(1-0.05/2, n-1)\n",
    "\n",
    "\n",
    "fig = plt.figure()\n",
    "ax= fig.add_subplot(111)\n",
    "bars = plt.bar(range(df.shape[0]), means, yerr = yerr,color = 'green')\n",
    "index = range(len(df.index))\n",
    "plt.xticks(index, df.index)\n",
    "plt.title('Data between 1992 and 1995')\n",
    "[plt.gca().spines[loc].set_visible(False) for loc in ['top', 'right']]\n",
    "for spine in ax.spines.values():\n",
    "    spine.set_visible(False)\n",
    "\n",
    "    \n",
    "threshold = 45000\n",
    "plt.axhline(y = threshold, zorder=1, color = 'brown')\n",
    "ytick = plt.gca().get_yticks()\n",
    "ytick = np.append(ytick,threshold)\n",
    "plt.gca().set_yticks(ytick)\n",
    "\n",
    "\n",
    "colormap = col.LinearSegmentedColormap.from_list(\"colormap\",[\"b\", \"white\", \"red\"])\n",
    "cpick = cm.ScalarMappable(cmap=colormap)\n",
    "cpick.set_array([])\n",
    "\n",
    "\n",
    "percentages = []\n",
    "for bar, yerr_ in zip(bars, yerr):\n",
    "    low = bar.get_height() - yerr_\n",
    "    high = bar.get_height() + yerr_\n",
    "    percentage = (high-threshold)/(high-low)\n",
    "    if percentage>1: percentage = 1\n",
    "    if percentage<0: percentage=0\n",
    "    percentages.append(percentage)\n",
    "percentages\n",
    "\n",
    "\n",
    "bars = plt.bar(range(df.shape[0]), means, yerr = yerr, color = cpick.to_rgba(percentages))\n",
    "\n",
    "\n",
    "plt.colorbar(cpick, orientation='horizontal', boundaries=np.linspace(0,1,12))\n",
    "\n",
    "plt.show()\n"
   ]
  },
  {
   "cell_type": "code",
   "execution_count": null,
   "metadata": {},
   "outputs": [],
   "source": []
  }
 ],
 "metadata": {
  "kernelspec": {
   "display_name": "Python 3",
   "language": "python",
   "name": "python3"
  },
  "language_info": {
   "codemirror_mode": {
    "name": "ipython",
    "version": 3
   },
   "file_extension": ".py",
   "mimetype": "text/x-python",
   "name": "python",
   "nbconvert_exporter": "python",
   "pygments_lexer": "ipython3",
   "version": "3.8.1"
  }
 },
 "nbformat": 4,
 "nbformat_minor": 2
}
